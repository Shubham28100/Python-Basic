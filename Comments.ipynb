{
 "cells": [
  {
   "cell_type": "markdown",
   "id": "713396d6-db34-483d-8d85-3ca76bcac86c",
   "metadata": {},
   "source": [
    "# Multiline comment"
   ]
  },
  {
   "cell_type": "code",
   "execution_count": 1,
   "id": "af0b4bdb-a7df-40ca-a985-b7c511898535",
   "metadata": {},
   "outputs": [
    {
     "data": {
      "text/plain": [
       "'This is a example of multiline comment'"
      ]
     },
     "execution_count": 1,
     "metadata": {},
     "output_type": "execute_result"
    }
   ],
   "source": [
    "\"\"\"This is a example of multiline comment\"\"\""
   ]
  },
  {
   "cell_type": "code",
   "execution_count": 2,
   "id": "ff5d0536-07d9-480b-9a76-499ffc12cfd1",
   "metadata": {},
   "outputs": [
    {
     "data": {
      "text/plain": [
       "'Their will be a output in multiline comment'"
      ]
     },
     "execution_count": 2,
     "metadata": {},
     "output_type": "execute_result"
    }
   ],
   "source": [
    "'''Their will be a output in multiline comment'''"
   ]
  },
  {
   "cell_type": "markdown",
   "id": "adf7cb58-cb2a-49a7-ad8f-c0576f663fb3",
   "metadata": {},
   "source": [
    "# Python docstring"
   ]
  },
  {
   "cell_type": "code",
   "execution_count": 3,
   "id": "7e7272c3-8ae2-4558-9d02-55809d0b8dd4",
   "metadata": {},
   "outputs": [
    {
     "data": {
      "text/plain": [
       "\"print(value, ..., sep=' ', end='\\\\n', file=sys.stdout, flush=False)\\n\\nPrints the values to a stream, or to sys.stdout by default.\\nOptional keyword arguments:\\nfile:  a file-like object (stream); defaults to the current sys.stdout.\\nsep:   string inserted between values, default a space.\\nend:   string appended after the last value, default a newline.\\nflush: whether to forcibly flush the stream.\""
      ]
     },
     "execution_count": 3,
     "metadata": {},
     "output_type": "execute_result"
    }
   ],
   "source": [
    "print .__doc__"
   ]
  },
  {
   "cell_type": "code",
   "execution_count": 4,
   "id": "136dd1be-f629-46f0-bc1c-615fa3d9b706",
   "metadata": {},
   "outputs": [],
   "source": [
    "# it shows all the doc strings attached to the print function."
   ]
  },
  {
   "cell_type": "code",
   "execution_count": 5,
   "id": "952b6030-0276-40a2-b505-5f68b20b088c",
   "metadata": {},
   "outputs": [
    {
     "data": {
      "text/plain": [
       "'Return the number of items in a container.'"
      ]
     },
     "execution_count": 5,
     "metadata": {},
     "output_type": "execute_result"
    }
   ],
   "source": [
    "len.__doc__"
   ]
  },
  {
   "cell_type": "code",
   "execution_count": 6,
   "id": "7debed56-2403-4f51-ab46-f0ba10aede2d",
   "metadata": {},
   "outputs": [
    {
     "data": {
      "text/plain": [
       "\"Return the identity of an object.\\n\\nThis is guaranteed to be unique among simultaneously existing objects.\\n(CPython uses the object's memory address.)\""
      ]
     },
     "execution_count": 6,
     "metadata": {},
     "output_type": "execute_result"
    }
   ],
   "source": [
    "id.__doc__"
   ]
  },
  {
   "cell_type": "code",
   "execution_count": 7,
   "id": "15ed3f10-a796-47d7-9e2b-25c0435a8ea1",
   "metadata": {},
   "outputs": [
    {
     "data": {
      "text/plain": [
       "\"type(object_or_name, bases, dict)\\ntype(object) -> the object's type\\ntype(name, bases, dict) -> a new type\""
      ]
     },
     "execution_count": 7,
     "metadata": {},
     "output_type": "execute_result"
    }
   ],
   "source": [
    "type.__doc__"
   ]
  },
  {
   "cell_type": "code",
   "execution_count": 8,
   "id": "aeddb2c1-7ac8-4796-8cd2-c34d5f77fe14",
   "metadata": {},
   "outputs": [
    {
     "data": {
      "text/plain": [
       "\"int([x]) -> integer\\nint(x, base=10) -> integer\\n\\nConvert a number or string to an integer, or return 0 if no arguments\\nare given.  If x is a number, return x.__int__().  For floating point\\nnumbers, this truncates towards zero.\\n\\nIf x is not a number or if base is given, then x must be a string,\\nbytes, or bytearray instance representing an integer literal in the\\ngiven base.  The literal can be preceded by '+' or '-' and be surrounded\\nby whitespace.  The base defaults to 10.  Valid bases are 0 and 2-36.\\nBase 0 means to interpret the base from the string as an integer literal.\\n>>> int('0b100', base=0)\\n4\""
      ]
     },
     "execution_count": 8,
     "metadata": {},
     "output_type": "execute_result"
    }
   ],
   "source": [
    "int.__doc__"
   ]
  },
  {
   "cell_type": "code",
   "execution_count": 9,
   "id": "a8e7d830-6163-4462-86f6-4ac31ee2faeb",
   "metadata": {},
   "outputs": [
    {
     "name": "stdout",
     "output_type": "stream",
     "text": [
      "<class 'int'>\n"
     ]
    },
    {
     "data": {
      "text/plain": [
       "\"int([x]) -> integer\\nint(x, base=10) -> integer\\n\\nConvert a number or string to an integer, or return 0 if no arguments\\nare given.  If x is a number, return x.__int__().  For floating point\\nnumbers, this truncates towards zero.\\n\\nIf x is not a number or if base is given, then x must be a string,\\nbytes, or bytearray instance representing an integer literal in the\\ngiven base.  The literal can be preceded by '+' or '-' and be surrounded\\nby whitespace.  The base defaults to 10.  Valid bases are 0 and 2-36.\\nBase 0 means to interpret the base from the string as an integer literal.\\n>>> int('0b100', base=0)\\n4\""
      ]
     },
     "execution_count": 9,
     "metadata": {},
     "output_type": "execute_result"
    }
   ],
   "source": [
    "a = 5\n",
    "print(type(a))\n",
    "a.__doc__"
   ]
  },
  {
   "cell_type": "code",
   "execution_count": 11,
   "id": "42e27b47-e4f6-4995-a5b2-98f2f9dfbf51",
   "metadata": {},
   "outputs": [
    {
     "name": "stdout",
     "output_type": "stream",
     "text": [
      "The Zen of Python, by Tim Peters\n",
      "\n",
      "Beautiful is better than ugly.\n",
      "Explicit is better than implicit.\n",
      "Simple is better than complex.\n",
      "Complex is better than complicated.\n",
      "Flat is better than nested.\n",
      "Sparse is better than dense.\n",
      "Readability counts.\n",
      "Special cases aren't special enough to break the rules.\n",
      "Although practicality beats purity.\n",
      "Errors should never pass silently.\n",
      "Unless explicitly silenced.\n",
      "In the face of ambiguity, refuse the temptation to guess.\n",
      "There should be one-- and preferably only one --obvious way to do it.\n",
      "Although that way may not be obvious at first unless you're Dutch.\n",
      "Now is better than never.\n",
      "Although never is often better than *right* now.\n",
      "If the implementation is hard to explain, it's a bad idea.\n",
      "If the implementation is easy to explain, it may be a good idea.\n",
      "Namespaces are one honking great idea -- let's do more of those!\n",
      "<module 'this' from 'C:\\\\Users\\\\admin\\\\anaconda3\\\\lib\\\\this.py'>\n"
     ]
    }
   ],
   "source": [
    "import this\n",
    "print(this)"
   ]
  },
  {
   "cell_type": "code",
   "execution_count": null,
   "id": "d3d632fd-085c-44f6-bc05-6b13f19c42b8",
   "metadata": {},
   "outputs": [],
   "source": []
  }
 ],
 "metadata": {
  "kernelspec": {
   "display_name": "Python 3 (ipykernel)",
   "language": "python",
   "name": "python3"
  },
  "language_info": {
   "codemirror_mode": {
    "name": "ipython",
    "version": 3
   },
   "file_extension": ".py",
   "mimetype": "text/x-python",
   "name": "python",
   "nbconvert_exporter": "python",
   "pygments_lexer": "ipython3",
   "version": "3.9.7"
  }
 },
 "nbformat": 4,
 "nbformat_minor": 5
}
