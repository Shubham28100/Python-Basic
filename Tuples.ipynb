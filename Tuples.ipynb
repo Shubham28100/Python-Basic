{
 "cells": [
  {
   "cell_type": "markdown",
   "id": "dd3bb291-0202-4e6c-9d4a-cc2af553b3c1",
   "metadata": {},
   "source": [
    "# Tuples"
   ]
  },
  {
   "cell_type": "code",
   "execution_count": 9,
   "id": "71403016-f246-4d30-b4a6-b08e38c2b3a1",
   "metadata": {},
   "outputs": [
    {
     "data": {
      "text/plain": [
       "'two'"
      ]
     },
     "execution_count": 9,
     "metadata": {},
     "output_type": "execute_result"
    }
   ],
   "source": [
    "# Create a tuple\n",
    "tup_1 = ('one',2,['two'],(1,2,3))\n",
    "tup_1[-2][-1]"
   ]
  },
  {
   "cell_type": "code",
   "execution_count": 8,
   "id": "fa2d5bce-78a5-431a-b1ea-853181b8d79a",
   "metadata": {},
   "outputs": [
    {
     "data": {
      "text/plain": [
       "3"
      ]
     },
     "execution_count": 8,
     "metadata": {},
     "output_type": "execute_result"
    }
   ],
   "source": [
    "tup_1[3][2]"
   ]
  },
  {
   "cell_type": "code",
   "execution_count": 1,
   "id": "059f8df4-5cba-419d-b8ab-d6485a81c806",
   "metadata": {},
   "outputs": [],
   "source": [
    "tup_1 = (1,2,['one'],(11,2,3),2,2,2)"
   ]
  },
  {
   "cell_type": "code",
   "execution_count": 2,
   "id": "7d48910e-147d-4d66-8a4a-d28f8c31d5cb",
   "metadata": {},
   "outputs": [
    {
     "data": {
      "text/plain": [
       "3"
      ]
     },
     "execution_count": 2,
     "metadata": {},
     "output_type": "execute_result"
    }
   ],
   "source": [
    "tup_1[-4][-1]"
   ]
  },
  {
   "cell_type": "code",
   "execution_count": 3,
   "id": "70bc21b7-bdce-4fa1-b24d-5de712c4608b",
   "metadata": {},
   "outputs": [
    {
     "data": {
      "text/plain": [
       "3"
      ]
     },
     "execution_count": 3,
     "metadata": {},
     "output_type": "execute_result"
    }
   ],
   "source": [
    "tup_1[3][2]"
   ]
  },
  {
   "cell_type": "markdown",
   "id": "d5f6ecd4-4f01-4bd8-aced-2f552bdb5f73",
   "metadata": {},
   "source": [
    "# Methods of Tuple"
   ]
  },
  {
   "cell_type": "markdown",
   "id": "50fca19f-60d9-4dc0-aeea-1b99e2c067d7",
   "metadata": {},
   "source": [
    "#### Index"
   ]
  },
  {
   "cell_type": "code",
   "execution_count": 9,
   "id": "beb8690c-35a4-48b6-997e-fdd6223b48cc",
   "metadata": {},
   "outputs": [
    {
     "data": {
      "text/plain": [
       "2"
      ]
     },
     "execution_count": 9,
     "metadata": {},
     "output_type": "execute_result"
    }
   ],
   "source": [
    "# use  .index to enter a value and return the index value of the element\n",
    "tup_1.index(['one'])"
   ]
  },
  {
   "cell_type": "code",
   "execution_count": 6,
   "id": "5e77c314-c603-4fe9-924f-7bfd4637e9a1",
   "metadata": {},
   "outputs": [
    {
     "data": {
      "text/plain": [
       "1"
      ]
     },
     "execution_count": 6,
     "metadata": {},
     "output_type": "execute_result"
    }
   ],
   "source": [
    "tup_1.index(2)"
   ]
  },
  {
   "cell_type": "markdown",
   "id": "1074cb21-f011-4352-ad1f-447ce4455319",
   "metadata": {},
   "source": [
    "#### Count"
   ]
  },
  {
   "cell_type": "code",
   "execution_count": 8,
   "id": "ca67c5b8-1918-49fb-be98-d67c1fc27ced",
   "metadata": {},
   "outputs": [
    {
     "data": {
      "text/plain": [
       "4"
      ]
     },
     "execution_count": 8,
     "metadata": {},
     "output_type": "execute_result"
    }
   ],
   "source": [
    "# use .count to count the number of times a value appears\n",
    "tup_1.count(2)"
   ]
  },
  {
   "cell_type": "code",
   "execution_count": 10,
   "id": "7d5f6dec-43f2-4a90-b47d-57b7edcda4c5",
   "metadata": {},
   "outputs": [
    {
     "data": {
      "text/plain": [
       "1"
      ]
     },
     "execution_count": 10,
     "metadata": {},
     "output_type": "execute_result"
    }
   ],
   "source": [
    "tup_1.count(['one'])"
   ]
  },
  {
   "cell_type": "markdown",
   "id": "e27180e2-bcc0-471a-b222-d9c98ea37d8f",
   "metadata": {},
   "source": [
    "## Immutability\n",
    "\n",
    "\n",
    " (cannot change the element inside the tuple)"
   ]
  },
  {
   "cell_type": "code",
   "execution_count": 13,
   "id": "762d10f2-89fc-442a-b5f3-216394a48901",
   "metadata": {},
   "outputs": [
    {
     "ename": "TypeError",
     "evalue": "'tuple' object does not support item assignment",
     "output_type": "error",
     "traceback": [
      "\u001b[1;31m---------------------------------------------------------------------------\u001b[0m",
      "\u001b[1;31mTypeError\u001b[0m                                 Traceback (most recent call last)",
      "\u001b[1;32m<ipython-input-13-389d0ea16afe>\u001b[0m in \u001b[0;36m<module>\u001b[1;34m\u001b[0m\n\u001b[1;32m----> 1\u001b[1;33m \u001b[0mtup_1\u001b[0m\u001b[1;33m[\u001b[0m\u001b[1;36m0\u001b[0m\u001b[1;33m]\u001b[0m \u001b[1;33m=\u001b[0m \u001b[1;36m4\u001b[0m\u001b[1;33m\u001b[0m\u001b[1;33m\u001b[0m\u001b[0m\n\u001b[0m",
      "\u001b[1;31mTypeError\u001b[0m: 'tuple' object does not support item assignment"
     ]
    }
   ],
   "source": [
    "tup_1[0] = 4"
   ]
  },
  {
   "cell_type": "markdown",
   "id": "8e19b05a-747d-431e-a62e-b1a90088c424",
   "metadata": {},
   "source": [
    "###### It can't be stressed enough touples are immutable"
   ]
  },
  {
   "cell_type": "markdown",
   "id": "623da4be-90be-4e0f-b48a-53c6139de463",
   "metadata": {},
   "source": [
    "Because of this immutability, tuples can't grow. once a tuple is made we cannot add it."
   ]
  },
  {
   "cell_type": "code",
   "execution_count": 1,
   "id": "1a8bff83-4b4b-4e12-90fb-807bde74021f",
   "metadata": {},
   "outputs": [
    {
     "data": {
      "text/plain": [
       "['__add__',\n",
       " '__class__',\n",
       " '__class_getitem__',\n",
       " '__contains__',\n",
       " '__delattr__',\n",
       " '__dir__',\n",
       " '__doc__',\n",
       " '__eq__',\n",
       " '__format__',\n",
       " '__ge__',\n",
       " '__getattribute__',\n",
       " '__getitem__',\n",
       " '__getnewargs__',\n",
       " '__gt__',\n",
       " '__hash__',\n",
       " '__init__',\n",
       " '__init_subclass__',\n",
       " '__iter__',\n",
       " '__le__',\n",
       " '__len__',\n",
       " '__lt__',\n",
       " '__mul__',\n",
       " '__ne__',\n",
       " '__new__',\n",
       " '__reduce__',\n",
       " '__reduce_ex__',\n",
       " '__repr__',\n",
       " '__rmul__',\n",
       " '__setattr__',\n",
       " '__sizeof__',\n",
       " '__str__',\n",
       " '__subclasshook__',\n",
       " 'count',\n",
       " 'index']"
      ]
     },
     "execution_count": 1,
     "metadata": {},
     "output_type": "execute_result"
    }
   ],
   "source": [
    "dir(tuple)"
   ]
  },
  {
   "cell_type": "code",
   "execution_count": null,
   "id": "787a6b1a-c1ed-441e-baa7-37d1647e9365",
   "metadata": {},
   "outputs": [],
   "source": []
  }
 ],
 "metadata": {
  "kernelspec": {
   "display_name": "Python 3 (ipykernel)",
   "language": "python",
   "name": "python3"
  },
  "language_info": {
   "codemirror_mode": {
    "name": "ipython",
    "version": 3
   },
   "file_extension": ".py",
   "mimetype": "text/x-python",
   "name": "python",
   "nbconvert_exporter": "python",
   "pygments_lexer": "ipython3",
   "version": "3.9.7"
  }
 },
 "nbformat": 4,
 "nbformat_minor": 5
}
