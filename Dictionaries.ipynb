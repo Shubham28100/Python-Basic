{
 "cells": [
  {
   "cell_type": "markdown",
   "id": "f6b5eaa9-196e-4e9a-961b-f7a03c7342ba",
   "metadata": {},
   "source": [
    "# Dictionaries"
   ]
  },
  {
   "cell_type": "markdown",
   "id": "eb9ba2a5-40d8-4ab1-85a6-1f14ec5b4f85",
   "metadata": {},
   "source": [
    "Dictionaries are writtren as\n",
    "\n",
    "dict_1 = {key : value}"
   ]
  },
  {
   "cell_type": "code",
   "execution_count": 1,
   "id": "48e3f0b1-c7ed-4f41-8253-906576ca885d",
   "metadata": {},
   "outputs": [],
   "source": [
    "my_dict = {'key1':[12,12],'key2':(12,23,33),'key3':['item0','item1','iteam2']} "
   ]
  },
  {
   "cell_type": "code",
   "execution_count": 2,
   "id": "3080043d-dcb0-40ca-a07a-d7bb5d977bec",
   "metadata": {},
   "outputs": [
    {
     "data": {
      "text/plain": [
       "{'key1': [12, 12], 'key2': (12, 23, 33), 'key3': ['item0', 'item1', 'iteam2']}"
      ]
     },
     "execution_count": 2,
     "metadata": {},
     "output_type": "execute_result"
    }
   ],
   "source": [
    "my_dict"
   ]
  },
  {
   "cell_type": "code",
   "execution_count": 3,
   "id": "bb548949-feb5-4e81-80e3-6f60ecae1f37",
   "metadata": {},
   "outputs": [
    {
     "data": {
      "text/plain": [
       "['item0', 'item1', 'iteam2']"
      ]
     },
     "execution_count": 3,
     "metadata": {},
     "output_type": "execute_result"
    }
   ],
   "source": [
    "# Indexing\n",
    "my_dict['key3']"
   ]
  },
  {
   "cell_type": "markdown",
   "id": "20f036f8-970f-4f21-bc3b-825a6b70219b",
   "metadata": {},
   "source": [
    "All the operations in the dictionary will be done with the key as all elemnts in dictionary are keys"
   ]
  },
  {
   "cell_type": "code",
   "execution_count": 4,
   "id": "026fd157-deeb-4141-9aa5-07651169a085",
   "metadata": {},
   "outputs": [
    {
     "data": {
      "text/plain": [
       "'item1'"
      ]
     },
     "execution_count": 4,
     "metadata": {},
     "output_type": "execute_result"
    }
   ],
   "source": [
    "my_dict['key3'][1]"
   ]
  },
  {
   "cell_type": "code",
   "execution_count": 5,
   "id": "783d6510-7f8d-4e7e-a1eb-eef37fec8d34",
   "metadata": {},
   "outputs": [],
   "source": [
    "Student_info = {'Student_name':['madhuri','ganesh','alok'],'Roll_no':(1,2,3)}"
   ]
  },
  {
   "cell_type": "code",
   "execution_count": 6,
   "id": "5a0b78d2-2dd3-4c0d-87dc-528f82ead784",
   "metadata": {},
   "outputs": [
    {
     "data": {
      "text/plain": [
       "{'Student_name': ['madhuri', 'ganesh', 'alok'], 'Roll_no': (1, 2, 3)}"
      ]
     },
     "execution_count": 6,
     "metadata": {},
     "output_type": "execute_result"
    }
   ],
   "source": [
    "Student_info"
   ]
  },
  {
   "cell_type": "code",
   "execution_count": 7,
   "id": "b2254b14-53d7-4ce0-a716-a7799b26bda9",
   "metadata": {},
   "outputs": [],
   "source": [
    "Student_info['Student_name'].append('ahmad')"
   ]
  },
  {
   "cell_type": "code",
   "execution_count": 8,
   "id": "b87690f5-ab3b-4fb9-a9a6-90dda3d27792",
   "metadata": {},
   "outputs": [
    {
     "data": {
      "text/plain": [
       "{'Student_name': ['madhuri', 'ganesh', 'alok', 'ahmad'], 'Roll_no': (1, 2, 3)}"
      ]
     },
     "execution_count": 8,
     "metadata": {},
     "output_type": "execute_result"
    }
   ],
   "source": [
    "Student_info"
   ]
  },
  {
   "cell_type": "code",
   "execution_count": 11,
   "id": "09b34dbc-abbb-4838-bb26-da2b0348bff3",
   "metadata": {},
   "outputs": [
    {
     "data": {
      "text/plain": [
       "{'Student_name': ['madhuri', 'ganesh', 'alok', 'ahmad'],\n",
       " 'Roll_no': (1, 2, 3, 4)}"
      ]
     },
     "execution_count": 11,
     "metadata": {},
     "output_type": "execute_result"
    }
   ],
   "source": [
    "Student_info['Roll_no'] = (1,2,3,4)\n",
    "Student_info"
   ]
  },
  {
   "cell_type": "code",
   "execution_count": 13,
   "id": "7f4d50d1-35dd-4631-87dd-4a1f9a0d9ed6",
   "metadata": {},
   "outputs": [
    {
     "data": {
      "text/plain": [
       "{}"
      ]
     },
     "execution_count": 13,
     "metadata": {},
     "output_type": "execute_result"
    }
   ],
   "source": [
    "d ={}\n",
    "d"
   ]
  },
  {
   "cell_type": "code",
   "execution_count": 17,
   "id": "d3e1f2f7-6ae3-4363-b019-284afb1614f2",
   "metadata": {},
   "outputs": [
    {
     "data": {
      "text/plain": [
       "{'Itvedant': ['Shuham', 'Ashutosh', 'Prathmesh', 'amruta']}"
      ]
     },
     "execution_count": 17,
     "metadata": {},
     "output_type": "execute_result"
    }
   ],
   "source": [
    "d['Itvedant']=['Shuham', 'Ashutosh', 'Prathmesh', 'amruta']\n",
    "d"
   ]
  },
  {
   "cell_type": "markdown",
   "id": "c6a5ba1b-c926-432e-a97a-76e7865b030d",
   "metadata": {},
   "source": [
    "## Nested Dictionary"
   ]
  },
  {
   "cell_type": "code",
   "execution_count": 18,
   "id": "00eaafd6-148d-460e-b480-86aae8eee9a3",
   "metadata": {},
   "outputs": [],
   "source": [
    "d = {'key1':{'nestkey':{'subnestkey':'value'}}}"
   ]
  },
  {
   "cell_type": "code",
   "execution_count": 19,
   "id": "a6af6b20-861d-4882-8081-05267f798ade",
   "metadata": {},
   "outputs": [
    {
     "data": {
      "text/plain": [
       "'value'"
      ]
     },
     "execution_count": 19,
     "metadata": {},
     "output_type": "execute_result"
    }
   ],
   "source": [
    "d['key1']['nestkey']['subnestkey']"
   ]
  },
  {
   "cell_type": "code",
   "execution_count": 2,
   "id": "1ec2edb1-07bd-4540-874f-780daca350ad",
   "metadata": {},
   "outputs": [
    {
     "data": {
      "text/plain": [
       "['__class__',\n",
       " '__contains__',\n",
       " '__delattr__',\n",
       " '__delitem__',\n",
       " '__dir__',\n",
       " '__doc__',\n",
       " '__eq__',\n",
       " '__format__',\n",
       " '__ge__',\n",
       " '__getattribute__',\n",
       " '__getitem__',\n",
       " '__gt__',\n",
       " '__hash__',\n",
       " '__init__',\n",
       " '__init_subclass__',\n",
       " '__iter__',\n",
       " '__le__',\n",
       " '__len__',\n",
       " '__lt__',\n",
       " '__ne__',\n",
       " '__new__',\n",
       " '__reduce__',\n",
       " '__reduce_ex__',\n",
       " '__repr__',\n",
       " '__reversed__',\n",
       " '__setattr__',\n",
       " '__setitem__',\n",
       " '__sizeof__',\n",
       " '__str__',\n",
       " '__subclasshook__',\n",
       " 'clear',\n",
       " 'copy',\n",
       " 'fromkeys',\n",
       " 'get',\n",
       " 'items',\n",
       " 'keys',\n",
       " 'pop',\n",
       " 'popitem',\n",
       " 'setdefault',\n",
       " 'update',\n",
       " 'values']"
      ]
     },
     "execution_count": 2,
     "metadata": {},
     "output_type": "execute_result"
    }
   ],
   "source": [
    "dir(dict)"
   ]
  },
  {
   "cell_type": "markdown",
   "id": "b7643473-2886-4f1e-be93-37346a6f814a",
   "metadata": {},
   "source": [
    "### Methods"
   ]
  },
  {
   "cell_type": "code",
   "execution_count": 3,
   "id": "f4ea98c1-ebd8-4a19-abec-98f04116c45b",
   "metadata": {},
   "outputs": [],
   "source": [
    "d= {'key1':1, 'key2':2, 'key3':3}"
   ]
  },
  {
   "cell_type": "code",
   "execution_count": 4,
   "id": "c2630af0-2ab4-4081-b3a0-9baca0da3779",
   "metadata": {},
   "outputs": [
    {
     "data": {
      "text/plain": [
       "dict_keys(['key1', 'key2', 'key3'])"
      ]
     },
     "execution_count": 4,
     "metadata": {},
     "output_type": "execute_result"
    }
   ],
   "source": [
    "#return's list of all keys\n",
    "d.keys()"
   ]
  },
  {
   "cell_type": "code",
   "execution_count": 7,
   "id": "f4e34ab5-b8c5-4e59-bbe2-9cc316115276",
   "metadata": {},
   "outputs": [
    {
     "data": {
      "text/plain": [
       "dict_values([1, 2, 3])"
      ]
     },
     "execution_count": 7,
     "metadata": {},
     "output_type": "execute_result"
    }
   ],
   "source": [
    "#return's list of all values\n",
    "d.values()"
   ]
  },
  {
   "cell_type": "code",
   "execution_count": 8,
   "id": "d07177bd-4ad0-44d2-b276-a505a0ec812b",
   "metadata": {},
   "outputs": [
    {
     "data": {
      "text/plain": [
       "dict_items([('key1', 1), ('key2', 2), ('key3', 3)])"
      ]
     },
     "execution_count": 8,
     "metadata": {},
     "output_type": "execute_result"
    }
   ],
   "source": [
    "#return's the dictionries\n",
    "d.items()"
   ]
  },
  {
   "cell_type": "code",
   "execution_count": null,
   "id": "4533f0d6-04d6-41d0-a7dc-3e41d4376cc8",
   "metadata": {},
   "outputs": [],
   "source": []
  },
  {
   "cell_type": "code",
   "execution_count": null,
   "id": "7c5b818a-a448-45bb-9aa7-b706bdca7068",
   "metadata": {},
   "outputs": [],
   "source": []
  }
 ],
 "metadata": {
  "kernelspec": {
   "display_name": "Python 3 (ipykernel)",
   "language": "python",
   "name": "python3"
  },
  "language_info": {
   "codemirror_mode": {
    "name": "ipython",
    "version": 3
   },
   "file_extension": ".py",
   "mimetype": "text/x-python",
   "name": "python",
   "nbconvert_exporter": "python",
   "pygments_lexer": "ipython3",
   "version": "3.9.7"
  }
 },
 "nbformat": 4,
 "nbformat_minor": 5
}
