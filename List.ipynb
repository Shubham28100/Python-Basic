{
 "cells": [
  {
   "cell_type": "code",
   "execution_count": 9,
   "id": "d10f7699-427c-47ef-ac7f-408e632c7d3f",
   "metadata": {},
   "outputs": [],
   "source": [
    "# List of all datatypes\n",
    "my_list = [1,2.2,(\"one\"),\"tuple\",123,0.8,[1,8.8,\"string\"],11,3.4]"
   ]
  },
  {
   "cell_type": "code",
   "execution_count": 10,
   "id": "69d814ec-6a7f-4794-86e3-91ebbf3a7a6a",
   "metadata": {},
   "outputs": [
    {
     "data": {
      "text/plain": [
       "'s'"
      ]
     },
     "execution_count": 10,
     "metadata": {},
     "output_type": "execute_result"
    }
   ],
   "source": [
    "# Index\n",
    "my_list[-3][-1][0]"
   ]
  },
  {
   "cell_type": "code",
   "execution_count": 18,
   "id": "7242afa6-8430-4435-9fad-1f6f2ca57ea4",
   "metadata": {},
   "outputs": [],
   "source": [
    "my_list1 = ['one',2,[3,2]]"
   ]
  },
  {
   "cell_type": "code",
   "execution_count": 19,
   "id": "12b3e778-9f55-4c4e-8d5f-b8d53a489748",
   "metadata": {},
   "outputs": [
    {
     "data": {
      "text/plain": [
       "[1,\n",
       " 2.2,\n",
       " 'one',\n",
       " 'tuple',\n",
       " 123,\n",
       " 0.8,\n",
       " [1, 8.8, 'string'],\n",
       " 11,\n",
       " 3.4,\n",
       " 'one',\n",
       " 2,\n",
       " [3, 2]]"
      ]
     },
     "execution_count": 19,
     "metadata": {},
     "output_type": "execute_result"
    }
   ],
   "source": [
    "# Concatenate\n",
    "my_list + my_list1"
   ]
  },
  {
   "cell_type": "markdown",
   "id": "4723140a-a2bd-4376-afcd-c8baccd6e7ea",
   "metadata": {},
   "source": [
    "## Mutability"
   ]
  },
  {
   "cell_type": "code",
   "execution_count": 20,
   "id": "fa1b2dda-1e24-4981-9096-8bd4739eb67d",
   "metadata": {},
   "outputs": [],
   "source": [
    "my_list1[-1][-1] = 5"
   ]
  },
  {
   "cell_type": "code",
   "execution_count": 21,
   "id": "e7204468-1dfa-4ec5-9e0f-727907e58ff1",
   "metadata": {},
   "outputs": [
    {
     "data": {
      "text/plain": [
       "['one', 2, [3, 5]]"
      ]
     },
     "execution_count": 21,
     "metadata": {},
     "output_type": "execute_result"
    }
   ],
   "source": [
    "my_list1"
   ]
  },
  {
   "cell_type": "markdown",
   "id": "dcd21a39-fc58-4f23-81e4-30b22f7bd1dd",
   "metadata": {},
   "source": [
    "List is a mutable data type"
   ]
  },
  {
   "cell_type": "markdown",
   "id": "c97da012-3b28-4f8d-9cfa-7a0a36670a0e",
   "metadata": {},
   "source": [
    "#### Basic Meathods of List"
   ]
  },
  {
   "cell_type": "code",
   "execution_count": 22,
   "id": "43b2c3be-e7b7-4fd5-90cd-bd798bcd9476",
   "metadata": {},
   "outputs": [],
   "source": [
    "list1 = [1,3,5,4,11]"
   ]
  },
  {
   "cell_type": "code",
   "execution_count": 23,
   "id": "fd35e6c6-be16-496b-a952-95617ed2b0e1",
   "metadata": {},
   "outputs": [],
   "source": [
    "# Append (add new elment)\n",
    "list1.append(12)"
   ]
  },
  {
   "cell_type": "code",
   "execution_count": 24,
   "id": "9fc2ae5f-fc81-4369-acc5-f51057b75b71",
   "metadata": {},
   "outputs": [
    {
     "data": {
      "text/plain": [
       "5"
      ]
     },
     "execution_count": 24,
     "metadata": {},
     "output_type": "execute_result"
    }
   ],
   "source": [
    "# pop (remove a element)\n",
    "list1.pop(2)"
   ]
  },
  {
   "cell_type": "markdown",
   "id": "20bde8b1-39ba-4e75-9cfb-bd208ec27967",
   "metadata": {},
   "source": [
    "Use the 'append' meathods to permanently add an iteam to the end of the list"
   ]
  },
  {
   "cell_type": "markdown",
   "id": "4b02aa75-e352-417a-a8a0-c0f42cdb2f7e",
   "metadata": {},
   "source": [
    "Use 'pop' to pop off an item from the list. By default pop takes off the last index, but you can also specify which index to pop off."
   ]
  },
  {
   "cell_type": "code",
   "execution_count": 25,
   "id": "8b8e8215-0dae-4bb8-89d1-f0ee908d7201",
   "metadata": {},
   "outputs": [
    {
     "data": {
      "text/plain": [
       "[1, 3, 4, 11, 12]"
      ]
     },
     "execution_count": 25,
     "metadata": {},
     "output_type": "execute_result"
    }
   ],
   "source": [
    "list1"
   ]
  },
  {
   "cell_type": "code",
   "execution_count": 11,
   "id": "67452b7b-ab42-4a98-ae7d-6c0ce9c7a1e7",
   "metadata": {},
   "outputs": [
    {
     "data": {
      "text/plain": [
       "12"
      ]
     },
     "execution_count": 11,
     "metadata": {},
     "output_type": "execute_result"
    }
   ],
   "source": [
    "list1.pop()"
   ]
  },
  {
   "cell_type": "code",
   "execution_count": 12,
   "id": "713718b3-5551-42d8-8291-1045e716e77d",
   "metadata": {},
   "outputs": [
    {
     "data": {
      "text/plain": [
       "[1, 3, 4, 11]"
      ]
     },
     "execution_count": 12,
     "metadata": {},
     "output_type": "execute_result"
    }
   ],
   "source": [
    "list1"
   ]
  },
  {
   "cell_type": "code",
   "execution_count": 13,
   "id": "0b6b8857-d2e2-474a-b3ec-63d6c98eea8f",
   "metadata": {},
   "outputs": [],
   "source": [
    "# Reverse (permanently reverse the order of element)\n",
    "list1.reverse()"
   ]
  },
  {
   "cell_type": "code",
   "execution_count": 14,
   "id": "9b95ae1a-12e2-444f-81cb-8d404859dcbc",
   "metadata": {},
   "outputs": [
    {
     "data": {
      "text/plain": [
       "[11, 4, 3, 1]"
      ]
     },
     "execution_count": 14,
     "metadata": {},
     "output_type": "execute_result"
    }
   ],
   "source": [
    "list1"
   ]
  },
  {
   "cell_type": "code",
   "execution_count": 15,
   "id": "d69e7575-2279-4249-a4b6-ad3e4fcd256a",
   "metadata": {},
   "outputs": [],
   "source": [
    "list2 = ['a','e','x','b','o']"
   ]
  },
  {
   "cell_type": "code",
   "execution_count": 16,
   "id": "ec831ee2-c297-4b9a-8ad1-dc53707b5886",
   "metadata": {},
   "outputs": [],
   "source": [
    "list2.reverse()"
   ]
  },
  {
   "cell_type": "code",
   "execution_count": 17,
   "id": "66ff8c81-3331-4277-bc49-88adfe1a8f1e",
   "metadata": {},
   "outputs": [
    {
     "data": {
      "text/plain": [
       "['o', 'b', 'x', 'e', 'a']"
      ]
     },
     "execution_count": 17,
     "metadata": {},
     "output_type": "execute_result"
    }
   ],
   "source": [
    "list2"
   ]
  },
  {
   "cell_type": "code",
   "execution_count": 18,
   "id": "b34bd2e7-45c2-4c7f-a844-f1d4510f55d5",
   "metadata": {},
   "outputs": [
    {
     "data": {
      "text/plain": [
       "['a', 'b', 'e', 'o', 'x']"
      ]
     },
     "execution_count": 18,
     "metadata": {},
     "output_type": "execute_result"
    }
   ],
   "source": [
    "# Sort (will sort list in ascending order)\n",
    "list2.sort()\n",
    "list2"
   ]
  },
  {
   "cell_type": "code",
   "execution_count": 19,
   "id": "01ef6f94-6767-4e7a-8243-1860d38a3720",
   "metadata": {},
   "outputs": [
    {
     "data": {
      "text/plain": [
       "['x', 'o', 'e', 'b', 'a']"
      ]
     },
     "execution_count": 19,
     "metadata": {},
     "output_type": "execute_result"
    }
   ],
   "source": [
    "# reverse true means decsending order and false means acsending order\n",
    "list2.sort(reverse = True)\n",
    "list2"
   ]
  },
  {
   "cell_type": "markdown",
   "id": "78d81f51-eec9-4311-9de1-d78a598d70d8",
   "metadata": {},
   "source": [
    "### Sorted Function"
   ]
  },
  {
   "cell_type": "markdown",
   "id": "d293612f-0114-4471-aa24-9a8c0b0866ee",
   "metadata": {},
   "source": [
    "sorted is a function and it does not make any permanent changes in the list, while sort is a meathod and makes permanent change in the original list"
   ]
  },
  {
   "cell_type": "code",
   "execution_count": 20,
   "id": "bc499a8a-bec0-4e05-865f-6a1ee2bf0835",
   "metadata": {},
   "outputs": [
    {
     "data": {
      "text/plain": [
       "['x', 'o', 'e', 'b', 'a']"
      ]
     },
     "execution_count": 20,
     "metadata": {},
     "output_type": "execute_result"
    }
   ],
   "source": [
    "sorted(list2)\n",
    "sorted(list2,reverse=True)"
   ]
  },
  {
   "cell_type": "code",
   "execution_count": 21,
   "id": "bea38e7a-a290-4417-b986-29d9cecdabb9",
   "metadata": {},
   "outputs": [
    {
     "data": {
      "text/plain": [
       "['__add__',\n",
       " '__class__',\n",
       " '__class_getitem__',\n",
       " '__contains__',\n",
       " '__delattr__',\n",
       " '__delitem__',\n",
       " '__dir__',\n",
       " '__doc__',\n",
       " '__eq__',\n",
       " '__format__',\n",
       " '__ge__',\n",
       " '__getattribute__',\n",
       " '__getitem__',\n",
       " '__gt__',\n",
       " '__hash__',\n",
       " '__iadd__',\n",
       " '__imul__',\n",
       " '__init__',\n",
       " '__init_subclass__',\n",
       " '__iter__',\n",
       " '__le__',\n",
       " '__len__',\n",
       " '__lt__',\n",
       " '__mul__',\n",
       " '__ne__',\n",
       " '__new__',\n",
       " '__reduce__',\n",
       " '__reduce_ex__',\n",
       " '__repr__',\n",
       " '__reversed__',\n",
       " '__rmul__',\n",
       " '__setattr__',\n",
       " '__setitem__',\n",
       " '__sizeof__',\n",
       " '__str__',\n",
       " '__subclasshook__',\n",
       " 'append',\n",
       " 'clear',\n",
       " 'copy',\n",
       " 'count',\n",
       " 'extend',\n",
       " 'index',\n",
       " 'insert',\n",
       " 'pop',\n",
       " 'remove',\n",
       " 'reverse',\n",
       " 'sort']"
      ]
     },
     "execution_count": 21,
     "metadata": {},
     "output_type": "execute_result"
    }
   ],
   "source": [
    "dir(list)"
   ]
  },
  {
   "cell_type": "code",
   "execution_count": 11,
   "id": "d9bb903e-473d-4247-b1e4-af59314e189d",
   "metadata": {},
   "outputs": [
    {
     "data": {
      "text/plain": [
       "[1, 2.2, 'one', 'tuple', 123, 0.8, [1, 8.8, 'string'], 11, 3.4, 'one', 2, [3]]"
      ]
     },
     "execution_count": 11,
     "metadata": {},
     "output_type": "execute_result"
    }
   ],
   "source": [
    "my_list = [1,2.2,(\"one\"),\"tuple\",123,0.8,[1,8.8,\"string\"],11,3.4]\n",
    "my_list1 = ['one',2,[3]]\n",
    "my_list + my_list1"
   ]
  },
  {
   "cell_type": "code",
   "execution_count": 8,
   "id": "a855950c-d391-453d-8828-436fa8b5f076",
   "metadata": {},
   "outputs": [
    {
     "name": "stdout",
     "output_type": "stream",
     "text": [
      "s\n"
     ]
    }
   ],
   "source": [
    "print(my_list[-3][-1][0])"
   ]
  },
  {
   "cell_type": "code",
   "execution_count": null,
   "id": "33ae7250-20a8-4184-8b2a-f54b8eea045d",
   "metadata": {},
   "outputs": [],
   "source": []
  }
 ],
 "metadata": {
  "kernelspec": {
   "display_name": "Python 3 (ipykernel)",
   "language": "python",
   "name": "python3"
  },
  "language_info": {
   "codemirror_mode": {
    "name": "ipython",
    "version": 3
   },
   "file_extension": ".py",
   "mimetype": "text/x-python",
   "name": "python",
   "nbconvert_exporter": "python",
   "pygments_lexer": "ipython3",
   "version": "3.9.7"
  }
 },
 "nbformat": 4,
 "nbformat_minor": 5
}
