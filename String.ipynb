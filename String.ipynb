{
 "cells": [
  {
   "cell_type": "markdown",
   "id": "ee6f9373-bd6f-4244-af9c-1883f1fae1f2",
   "metadata": {},
   "source": [
    "\n",
    "# STRING"
   ]
  },
  {
   "cell_type": "markdown",
   "id": "62d9dfe7-a28f-4fed-b64e-722c070cb412",
   "metadata": {},
   "source": [
    "## Creating a string"
   ]
  },
  {
   "cell_type": "code",
   "execution_count": 1,
   "id": "29880812-468b-420c-a6d3-90891a8948f6",
   "metadata": {},
   "outputs": [
    {
     "name": "stdout",
     "output_type": "stream",
     "text": [
      "this is a string\n",
      "<class 'str'>\n"
     ]
    }
   ],
   "source": [
    "str_1= \"this is a string\"\n",
    "print(str_1)\n",
    "print(type(str_1))"
   ]
  },
  {
   "cell_type": "code",
   "execution_count": 2,
   "id": "0d75dc1f-bbb7-4801-8005-c2d08395144e",
   "metadata": {},
   "outputs": [
    {
     "data": {
      "text/plain": [
       "\"In this i'm using singlr quotes, but this will create an error\""
      ]
     },
     "execution_count": 2,
     "metadata": {},
     "output_type": "execute_result"
    }
   ],
   "source": [
    "# Be careful with quotes\n",
    "\"In this i'm using singlr quotes, but this will create an error\""
   ]
  },
  {
   "cell_type": "code",
   "execution_count": 3,
   "id": "423ca745-17c1-43fd-82ce-7fb755885223",
   "metadata": {},
   "outputs": [],
   "source": [
    "# To print a single quote we should write double quotes first"
   ]
  },
  {
   "cell_type": "markdown",
   "id": "b409b8bc-347e-4a27-8004-822f2867ebcb",
   "metadata": {},
   "source": [
    "## String Indexing"
   ]
  },
  {
   "cell_type": "code",
   "execution_count": 2,
   "id": "2afeaacc-4c36-4043-9904-d3f8a0d25bcb",
   "metadata": {
    "tags": []
   },
   "outputs": [],
   "source": [
    "s = \"Hello World\"\n"
   ]
  },
  {
   "cell_type": "code",
   "execution_count": 5,
   "id": "d8ee5218-efc9-4899-b13f-892175724853",
   "metadata": {
    "tags": []
   },
   "outputs": [
    {
     "data": {
      "text/plain": [
       "'Hello World'"
      ]
     },
     "execution_count": 5,
     "metadata": {},
     "output_type": "execute_result"
    }
   ],
   "source": [
    "s"
   ]
  },
  {
   "cell_type": "code",
   "execution_count": 6,
   "id": "ce476be3-5b00-4691-8d6c-9a824030e0b2",
   "metadata": {
    "tags": []
   },
   "outputs": [
    {
     "data": {
      "text/plain": [
       "'H'"
      ]
     },
     "execution_count": 6,
     "metadata": {},
     "output_type": "execute_result"
    }
   ],
   "source": [
    "s[0]"
   ]
  },
  {
   "cell_type": "code",
   "execution_count": 7,
   "id": "f14d83fa-c5c2-42e3-81a5-8e91bc562e3e",
   "metadata": {
    "tags": []
   },
   "outputs": [
    {
     "data": {
      "text/plain": [
       "'l'"
      ]
     },
     "execution_count": 7,
     "metadata": {},
     "output_type": "execute_result"
    }
   ],
   "source": [
    "s[3]"
   ]
  },
  {
   "cell_type": "code",
   "execution_count": 8,
   "id": "aa99d684-23d9-4f45-9bc3-612474acaa55",
   "metadata": {
    "tags": []
   },
   "outputs": [
    {
     "data": {
      "text/plain": [
       "'HloWrd'"
      ]
     },
     "execution_count": 8,
     "metadata": {},
     "output_type": "execute_result"
    }
   ],
   "source": [
    "# Grab everything past the first term all the way to the end\n",
    "s[::2]"
   ]
  },
  {
   "cell_type": "code",
   "execution_count": 9,
   "id": "86f4a72c-7ff4-43e5-bc56-7c3cc1c83d09",
   "metadata": {
    "tags": []
   },
   "outputs": [
    {
     "data": {
      "text/plain": [
       "' '"
      ]
     },
     "execution_count": 9,
     "metadata": {},
     "output_type": "execute_result"
    }
   ],
   "source": [
    "s[5]"
   ]
  },
  {
   "cell_type": "code",
   "execution_count": 10,
   "id": "28b089f0-1c61-42a8-b6bc-967ad4ccb307",
   "metadata": {
    "tags": []
   },
   "outputs": [
    {
     "data": {
      "text/plain": [
       "'Hell'"
      ]
     },
     "execution_count": 10,
     "metadata": {},
     "output_type": "execute_result"
    }
   ],
   "source": [
    "# Grab everything from strat to the specified term\n",
    "s[:4]"
   ]
  },
  {
   "cell_type": "code",
   "execution_count": 11,
   "id": "fcddf4d9-9b84-433c-8ba8-b07197009a7e",
   "metadata": {
    "tags": []
   },
   "outputs": [
    {
     "data": {
      "text/plain": [
       "'Hello World'"
      ]
     },
     "execution_count": 11,
     "metadata": {},
     "output_type": "execute_result"
    }
   ],
   "source": [
    "# Everything\n",
    "s[:]"
   ]
  },
  {
   "cell_type": "code",
   "execution_count": 12,
   "id": "ebbc2621-8639-44b7-968b-1e682b7002cf",
   "metadata": {
    "tags": []
   },
   "outputs": [
    {
     "data": {
      "text/plain": [
       "'d'"
      ]
     },
     "execution_count": 12,
     "metadata": {},
     "output_type": "execute_result"
    }
   ],
   "source": [
    "s[-1]"
   ]
  },
  {
   "cell_type": "code",
   "execution_count": 13,
   "id": "7cf16ffa-9063-4cdc-882d-f08195a66ec9",
   "metadata": {
    "tags": []
   },
   "outputs": [
    {
     "data": {
      "text/plain": [
       "'dlroW olleH'"
      ]
     },
     "execution_count": 13,
     "metadata": {},
     "output_type": "execute_result"
    }
   ],
   "source": [
    "# We can use this to print a string backwards\n",
    "s[::-1]  # [start point, stop point, step size]"
   ]
  },
  {
   "cell_type": "code",
   "execution_count": 14,
   "id": "76a0f10e-5ae6-4858-b848-b6df1d7b8864",
   "metadata": {
    "tags": []
   },
   "outputs": [
    {
     "data": {
      "text/plain": [
       "'HloWrd'"
      ]
     },
     "execution_count": 14,
     "metadata": {},
     "output_type": "execute_result"
    }
   ],
   "source": [
    "s[0:11:2] # n-1 =11-1 =10"
   ]
  },
  {
   "cell_type": "code",
   "execution_count": 15,
   "id": "1a0b0b1e-2c4f-4f6e-9aef-d90b64d787da",
   "metadata": {
    "tags": []
   },
   "outputs": [
    {
     "data": {
      "text/plain": [
       "'HloWrd'"
      ]
     },
     "execution_count": 15,
     "metadata": {},
     "output_type": "execute_result"
    }
   ],
   "source": [
    "s[::2]"
   ]
  },
  {
   "cell_type": "code",
   "execution_count": 16,
   "id": "28bd4f69-7960-4728-9748-38bacbb82ac6",
   "metadata": {
    "tags": []
   },
   "outputs": [],
   "source": [
    "# Concatenate strings!\n"
   ]
  },
  {
   "cell_type": "markdown",
   "id": "0d334d19-6ba9-408a-8d77-3965dc6991ec",
   "metadata": {},
   "source": [
    "## String Properties"
   ]
  },
  {
   "cell_type": "markdown",
   "id": "4737db8f-7340-43c6-b2bb-ad92d2c59d7f",
   "metadata": {},
   "source": [
    "It's important to note that string have an important property known as immutablity. This means that once a string is created, the elements within it can not be changed or replaced.For example: "
   ]
  },
  {
   "cell_type": "code",
   "execution_count": 17,
   "id": "c88e9f63-6dde-4c3b-a9e0-2a31d93c031f",
   "metadata": {
    "tags": []
   },
   "outputs": [
    {
     "ename": "TypeError",
     "evalue": "'str' object does not support item assignment",
     "output_type": "error",
     "traceback": [
      "\u001b[1;31m---------------------------------------------------------------------------\u001b[0m",
      "\u001b[1;31mTypeError\u001b[0m                                 Traceback (most recent call last)",
      "\u001b[1;32m~\\AppData\\Local\\Temp/ipykernel_12644/3246915371.py\u001b[0m in \u001b[0;36m<module>\u001b[1;34m\u001b[0m\n\u001b[0;32m      1\u001b[0m \u001b[1;31m#lets try to change the first letter to'x'\u001b[0m\u001b[1;33m\u001b[0m\u001b[1;33m\u001b[0m\u001b[0m\n\u001b[1;32m----> 2\u001b[1;33m \u001b[0ms\u001b[0m\u001b[1;33m[\u001b[0m\u001b[1;36m0\u001b[0m\u001b[1;33m]\u001b[0m \u001b[1;33m=\u001b[0m \u001b[1;34m\"x\"\u001b[0m\u001b[1;33m\u001b[0m\u001b[1;33m\u001b[0m\u001b[0m\n\u001b[0m",
      "\u001b[1;31mTypeError\u001b[0m: 'str' object does not support item assignment"
     ]
    }
   ],
   "source": [
    "#lets try to change the first letter to'x'\n",
    "s[0] = \"x\""
   ]
  },
  {
   "cell_type": "code",
   "execution_count": 18,
   "id": "eec50745-57c6-4fa5-b63e-f2de0fe2b591",
   "metadata": {
    "tags": []
   },
   "outputs": [
    {
     "data": {
      "text/plain": [
       "'Hello World Concatenate me!'"
      ]
     },
     "execution_count": 18,
     "metadata": {},
     "output_type": "execute_result"
    }
   ],
   "source": [
    "# Concatenate Strings!\n",
    "s+\" Concatenate me!\""
   ]
  },
  {
   "cell_type": "code",
   "execution_count": 19,
   "id": "b09d3ead-030b-470b-9304-0bdd4137bc96",
   "metadata": {
    "tags": []
   },
   "outputs": [],
   "source": [
    "# we can reassign s completely though!\n",
    "s = s+\" concatenate me!\""
   ]
  },
  {
   "cell_type": "code",
   "execution_count": 20,
   "id": "d35145ed-62fc-4f0c-9403-c05501fc834e",
   "metadata": {
    "tags": []
   },
   "outputs": [
    {
     "name": "stdout",
     "output_type": "stream",
     "text": [
      "Hello World concatenate me!\n"
     ]
    }
   ],
   "source": [
    "print(s)"
   ]
  },
  {
   "cell_type": "code",
   "execution_count": 21,
   "id": "9906b2a6-2bd3-45f6-9893-e83782ded360",
   "metadata": {
    "tags": []
   },
   "outputs": [
    {
     "ename": "TypeError",
     "evalue": "can only concatenate str (not \"int\") to str",
     "output_type": "error",
     "traceback": [
      "\u001b[1;31m---------------------------------------------------------------------------\u001b[0m",
      "\u001b[1;31mTypeError\u001b[0m                                 Traceback (most recent call last)",
      "\u001b[1;32m~\\AppData\\Local\\Temp/ipykernel_12644/3968683434.py\u001b[0m in \u001b[0;36m<module>\u001b[1;34m\u001b[0m\n\u001b[1;32m----> 1\u001b[1;33m \u001b[0ms\u001b[0m \u001b[1;33m=\u001b[0m \u001b[0ms\u001b[0m\u001b[1;33m+\u001b[0m\u001b[1;36m1\u001b[0m\u001b[1;33m\u001b[0m\u001b[1;33m\u001b[0m\u001b[0m\n\u001b[0m",
      "\u001b[1;31mTypeError\u001b[0m: can only concatenate str (not \"int\") to str"
     ]
    }
   ],
   "source": [
    "s = s+1"
   ]
  },
  {
   "cell_type": "code",
   "execution_count": 22,
   "id": "0e19a67e-ee97-4559-838c-b98cc63bed55",
   "metadata": {
    "tags": []
   },
   "outputs": [],
   "source": [
    "letter = \"z\""
   ]
  },
  {
   "cell_type": "code",
   "execution_count": 23,
   "id": "45c73783-f70f-4cca-910e-db5a8172d38c",
   "metadata": {
    "tags": []
   },
   "outputs": [
    {
     "data": {
      "text/plain": [
       "'zzzz'"
      ]
     },
     "execution_count": 23,
     "metadata": {},
     "output_type": "execute_result"
    }
   ],
   "source": [
    "letter *4"
   ]
  },
  {
   "cell_type": "markdown",
   "id": "fcc2bae7-93d0-4355-b722-13a17259462c",
   "metadata": {},
   "source": [
    "# Basic Built-in String Methods"
   ]
  },
  {
   "cell_type": "code",
   "execution_count": 24,
   "id": "00f31b1a-387d-4307-adc2-2560bb44b791",
   "metadata": {},
   "outputs": [
    {
     "data": {
      "text/plain": [
       "['__add__',\n",
       " '__class__',\n",
       " '__contains__',\n",
       " '__delattr__',\n",
       " '__dir__',\n",
       " '__doc__',\n",
       " '__eq__',\n",
       " '__format__',\n",
       " '__ge__',\n",
       " '__getattribute__',\n",
       " '__getitem__',\n",
       " '__getnewargs__',\n",
       " '__gt__',\n",
       " '__hash__',\n",
       " '__init__',\n",
       " '__init_subclass__',\n",
       " '__iter__',\n",
       " '__le__',\n",
       " '__len__',\n",
       " '__lt__',\n",
       " '__mod__',\n",
       " '__mul__',\n",
       " '__ne__',\n",
       " '__new__',\n",
       " '__reduce__',\n",
       " '__reduce_ex__',\n",
       " '__repr__',\n",
       " '__rmod__',\n",
       " '__rmul__',\n",
       " '__setattr__',\n",
       " '__sizeof__',\n",
       " '__str__',\n",
       " '__subclasshook__',\n",
       " 'capitalize',\n",
       " 'casefold',\n",
       " 'center',\n",
       " 'count',\n",
       " 'encode',\n",
       " 'endswith',\n",
       " 'expandtabs',\n",
       " 'find',\n",
       " 'format',\n",
       " 'format_map',\n",
       " 'index',\n",
       " 'isalnum',\n",
       " 'isalpha',\n",
       " 'isascii',\n",
       " 'isdecimal',\n",
       " 'isdigit',\n",
       " 'isidentifier',\n",
       " 'islower',\n",
       " 'isnumeric',\n",
       " 'isprintable',\n",
       " 'isspace',\n",
       " 'istitle',\n",
       " 'isupper',\n",
       " 'join',\n",
       " 'ljust',\n",
       " 'lower',\n",
       " 'lstrip',\n",
       " 'maketrans',\n",
       " 'partition',\n",
       " 'removeprefix',\n",
       " 'removesuffix',\n",
       " 'replace',\n",
       " 'rfind',\n",
       " 'rindex',\n",
       " 'rjust',\n",
       " 'rpartition',\n",
       " 'rsplit',\n",
       " 'rstrip',\n",
       " 'split',\n",
       " 'splitlines',\n",
       " 'startswith',\n",
       " 'strip',\n",
       " 'swapcase',\n",
       " 'title',\n",
       " 'translate',\n",
       " 'upper',\n",
       " 'zfill']"
      ]
     },
     "execution_count": 24,
     "metadata": {},
     "output_type": "execute_result"
    }
   ],
   "source": [
    "dir(str)"
   ]
  },
  {
   "cell_type": "code",
   "execution_count": 25,
   "id": "686f4896-5bca-40b7-85ef-8b94979c01be",
   "metadata": {
    "tags": []
   },
   "outputs": [
    {
     "data": {
      "text/plain": [
       "'HELLO WORLD CONCATENATE ME!'"
      ]
     },
     "execution_count": 25,
     "metadata": {},
     "output_type": "execute_result"
    }
   ],
   "source": [
    "# Upper Case a String\n",
    "s.upper()"
   ]
  },
  {
   "cell_type": "code",
   "execution_count": 26,
   "id": "36739138-8c68-4dec-934d-0a7262332084",
   "metadata": {
    "tags": []
   },
   "outputs": [
    {
     "data": {
      "text/plain": [
       "'hello world concatenate me!'"
      ]
     },
     "execution_count": 26,
     "metadata": {},
     "output_type": "execute_result"
    }
   ],
   "source": [
    "# Lower Case \n",
    "s.lower()"
   ]
  },
  {
   "cell_type": "code",
   "execution_count": 29,
   "id": "0743ea69-2a19-4d83-9903-62a277e1e15a",
   "metadata": {
    "tags": []
   },
   "outputs": [
    {
     "data": {
      "text/plain": [
       "['Hello', 'World', 'concatenate', 'me!']"
      ]
     },
     "execution_count": 29,
     "metadata": {},
     "output_type": "execute_result"
    }
   ],
   "source": [
    "# Split a string by blank space\n",
    "s.split()"
   ]
  },
  {
   "cell_type": "markdown",
   "id": "a34d1ce2-dfdf-4098-a6e1-4f68384e31b9",
   "metadata": {},
   "source": [
    "## String Formating with Placeholder"
   ]
  },
  {
   "cell_type": "markdown",
   "id": "eebbea2c-b696-4c9f-b74d-fb719ddae3ee",
   "metadata": {},
   "source": [
    "You can use %s to inject string into your print statements. The '%' modulo is reffered to as a \"string formating operator\"."
   ]
  },
  {
   "cell_type": "code",
   "execution_count": 30,
   "id": "40a2d2a2-94dd-4d32-a32b-f95e6b6fd1ca",
   "metadata": {
    "tags": []
   },
   "outputs": [
    {
     "name": "stdout",
     "output_type": "stream",
     "text": [
      "This is a string of something here\n"
     ]
    }
   ],
   "source": [
    "print('This is a string of %s here'%'something')"
   ]
  },
  {
   "cell_type": "code",
   "execution_count": 31,
   "id": "e9916ab8-be05-4236-a974-99838a1affe6",
   "metadata": {
    "tags": []
   },
   "outputs": [
    {
     "name": "stdout",
     "output_type": "stream",
     "text": [
      "His name is 'Fred'\n"
     ]
    }
   ],
   "source": [
    "# %r will print the whole string\n",
    "print('His name is %r'%'Fred')"
   ]
  },
  {
   "cell_type": "code",
   "execution_count": 33,
   "id": "e5955f45-0ae0-4861-8fe6-4589724d4a84",
   "metadata": {
    "tags": []
   },
   "outputs": [
    {
     "name": "stdout",
     "output_type": "stream",
     "text": [
      "This is the 3\n"
     ]
    }
   ],
   "source": [
    "# %d will only print the whole num\n",
    "print('This is the %d'%3.434)"
   ]
  },
  {
   "cell_type": "code",
   "execution_count": 37,
   "id": "206b998c-ec3b-405e-b8d9-13065776ba0b",
   "metadata": {
    "tags": []
   },
   "outputs": [
    {
     "name": "stdout",
     "output_type": "stream",
     "text": [
      "First:hello Second:\n"
     ]
    }
   ],
   "source": [
    "# Multiple formating \n",
    "print('First:%s'%'hello', 'Second:')"
   ]
  },
  {
   "cell_type": "code",
   "execution_count": 38,
   "id": "07b5cb77-8d81-4f3c-bdf1-a3aae517d54f",
   "metadata": {
    "tags": []
   },
   "outputs": [
    {
     "name": "stdout",
     "output_type": "stream",
     "text": [
      "Number is 13.662\n",
      "Number is 13.662100\n"
     ]
    }
   ],
   "source": [
    "# %.Nf where N indicates the no. of decimal places\n",
    "print('Number is %.3f'%13.6621)\n",
    "print('Number is %.6f'%13.6621)"
   ]
  },
  {
   "cell_type": "markdown",
   "id": "267b2e8a-9d84-495e-a78c-3b39b6956d88",
   "metadata": {},
   "source": [
    "# Formating with the .format() method\n"
   ]
  },
  {
   "cell_type": "code",
   "execution_count": 42,
   "id": "20508c7f-6693-42af-ab77-e73082024845",
   "metadata": {},
   "outputs": [
    {
     "name": "stdout",
     "output_type": "stream",
     "text": [
      "The quick brown fox\n"
     ]
    }
   ],
   "source": [
    "# .format method\n",
    "print('The {2} {1} {0}'.format('fox','brown','quick'))"
   ]
  },
  {
   "cell_type": "code",
   "execution_count": 43,
   "id": "ef159b04-0436-4af6-9137-5140b3532860",
   "metadata": {},
   "outputs": [
    {
     "name": "stdout",
     "output_type": "stream",
     "text": [
      "First Object:1, second object:Two, third object 12.3\n"
     ]
    }
   ],
   "source": [
    "print('First Object:{a}, second object:{b}, third object {c}'.format(a=1,b='Two',c=12.3))"
   ]
  },
  {
   "cell_type": "code",
   "execution_count": null,
   "id": "657ea4d1-e931-43c4-9d88-3360db8356d6",
   "metadata": {},
   "outputs": [],
   "source": []
  }
 ],
 "metadata": {
  "kernelspec": {
   "display_name": "Python 3 (ipykernel)",
   "language": "python",
   "name": "python3"
  },
  "language_info": {
   "codemirror_mode": {
    "name": "ipython",
    "version": 3
   },
   "file_extension": ".py",
   "mimetype": "text/x-python",
   "name": "python",
   "nbconvert_exporter": "python",
   "pygments_lexer": "ipython3",
   "version": "3.9.7"
  }
 },
 "nbformat": 4,
 "nbformat_minor": 5
}
