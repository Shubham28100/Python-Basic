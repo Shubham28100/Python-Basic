{
 "cells": [
  {
   "cell_type": "markdown",
   "id": "e1963da0-9567-4628-9724-c8f31b0f76cd",
   "metadata": {},
   "source": [
    "# Sets and Boolens"
   ]
  },
  {
   "cell_type": "markdown",
   "id": "58d412eb-d1c7-45de-aed8-1ac6e360f94d",
   "metadata": {},
   "source": [
    "### Sets"
   ]
  },
  {
   "cell_type": "markdown",
   "id": "cba2bece-4b2e-48e8-8f2b-4740c3144b21",
   "metadata": {},
   "source": [
    "Sets are unordered collection of unique elements. We can construct them using the set() fuction.\n"
   ]
  },
  {
   "cell_type": "code",
   "execution_count": 13,
   "id": "8dd77b35-7e86-4147-b719-5d68d924219f",
   "metadata": {},
   "outputs": [
    {
     "data": {
      "text/plain": [
       "{1, 2, 3, 4}"
      ]
     },
     "execution_count": 13,
     "metadata": {},
     "output_type": "execute_result"
    }
   ],
   "source": [
    "set_1 = {1,2,2,2,3,4,4,4,4,4}\n",
    "set_1"
   ]
  },
  {
   "cell_type": "code",
   "execution_count": 2,
   "id": "3a6db6e7-33f2-478a-ac75-7d4bc7b77369",
   "metadata": {},
   "outputs": [
    {
     "data": {
      "text/plain": [
       "{1, 2, 3, 4, 5}"
      ]
     },
     "execution_count": 2,
     "metadata": {},
     "output_type": "execute_result"
    }
   ],
   "source": [
    "# Add is a general method and not specific method for sets\n",
    "set_1.add(5)\n",
    "set_1"
   ]
  },
  {
   "cell_type": "code",
   "execution_count": 3,
   "id": "e86ab003-37b0-4070-accc-381d2b3e0bc4",
   "metadata": {},
   "outputs": [],
   "source": [
    "#convert list into unique list of element\n",
    "list_1 = [1,1,1,2,2,2,3,3,3,4,4,4,5,5]"
   ]
  },
  {
   "cell_type": "code",
   "execution_count": 4,
   "id": "2be6b2b6-5de5-4c7f-a589-2f95f9fe4309",
   "metadata": {},
   "outputs": [
    {
     "data": {
      "text/plain": [
       "[1, 2, 3, 4, 5]"
      ]
     },
     "execution_count": 4,
     "metadata": {},
     "output_type": "execute_result"
    }
   ],
   "source": [
    "list(set(list_1))"
   ]
  },
  {
   "cell_type": "code",
   "execution_count": 5,
   "id": "6b0975c5-f34c-42a4-bcc5-c7cc0ee5f329",
   "metadata": {},
   "outputs": [
    {
     "data": {
      "text/plain": [
       "['__and__',\n",
       " '__class__',\n",
       " '__class_getitem__',\n",
       " '__contains__',\n",
       " '__delattr__',\n",
       " '__dir__',\n",
       " '__doc__',\n",
       " '__eq__',\n",
       " '__format__',\n",
       " '__ge__',\n",
       " '__getattribute__',\n",
       " '__gt__',\n",
       " '__hash__',\n",
       " '__iand__',\n",
       " '__init__',\n",
       " '__init_subclass__',\n",
       " '__ior__',\n",
       " '__isub__',\n",
       " '__iter__',\n",
       " '__ixor__',\n",
       " '__le__',\n",
       " '__len__',\n",
       " '__lt__',\n",
       " '__ne__',\n",
       " '__new__',\n",
       " '__or__',\n",
       " '__rand__',\n",
       " '__reduce__',\n",
       " '__reduce_ex__',\n",
       " '__repr__',\n",
       " '__ror__',\n",
       " '__rsub__',\n",
       " '__rxor__',\n",
       " '__setattr__',\n",
       " '__sizeof__',\n",
       " '__str__',\n",
       " '__sub__',\n",
       " '__subclasshook__',\n",
       " '__xor__',\n",
       " 'add',\n",
       " 'clear',\n",
       " 'copy',\n",
       " 'difference',\n",
       " 'difference_update',\n",
       " 'discard',\n",
       " 'intersection',\n",
       " 'intersection_update',\n",
       " 'isdisjoint',\n",
       " 'issubset',\n",
       " 'issuperset',\n",
       " 'pop',\n",
       " 'remove',\n",
       " 'symmetric_difference',\n",
       " 'symmetric_difference_update',\n",
       " 'union',\n",
       " 'update']"
      ]
     },
     "execution_count": 5,
     "metadata": {},
     "output_type": "execute_result"
    }
   ],
   "source": [
    "dir(set)"
   ]
  },
  {
   "cell_type": "code",
   "execution_count": 11,
   "id": "5fd48214-2c2f-460d-8932-dd768d827fcf",
   "metadata": {},
   "outputs": [
    {
     "data": {
      "text/plain": [
       "1"
      ]
     },
     "execution_count": 11,
     "metadata": {},
     "output_type": "execute_result"
    }
   ],
   "source": [
    "set_1.pop()"
   ]
  },
  {
   "cell_type": "code",
   "execution_count": null,
   "id": "61fabeb4-663c-4019-8ac6-56fd319836cc",
   "metadata": {},
   "outputs": [],
   "source": []
  }
 ],
 "metadata": {
  "kernelspec": {
   "display_name": "Python 3 (ipykernel)",
   "language": "python",
   "name": "python3"
  },
  "language_info": {
   "codemirror_mode": {
    "name": "ipython",
    "version": 3
   },
   "file_extension": ".py",
   "mimetype": "text/x-python",
   "name": "python",
   "nbconvert_exporter": "python",
   "pygments_lexer": "ipython3",
   "version": "3.9.7"
  }
 },
 "nbformat": 4,
 "nbformat_minor": 5
}
